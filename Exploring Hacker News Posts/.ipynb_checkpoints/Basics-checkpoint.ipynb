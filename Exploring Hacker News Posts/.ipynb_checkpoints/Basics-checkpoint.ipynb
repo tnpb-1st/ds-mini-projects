{
 "cells": [
  {
   "cell_type": "markdown",
   "metadata": {
    "collapsed": true
   },
   "source": [
    "# Hacker News analysys\n",
    "## author: Tomás N. P. Barros\n",
    "### email: samotbnp@gmail.com\n",
    "This notebook is a mini project for getting practice with the basics of python using a dataset of the hacker news website provided in the link: https://www.kaggle.com/datasets/hacker-news/hacker-news-posts"
   ]
  },
  {
   "cell_type": "code",
   "execution_count": 22,
   "metadata": {},
   "outputs": [],
   "source": [
    "import csv\n",
    "import numpy as np\n",
    "import datetime as dt"
   ]
  },
  {
   "cell_type": "code",
   "execution_count": null,
   "metadata": {},
   "outputs": [],
   "source": [
    "hn = open('hacker_news.csv', 'r')\n",
    "hn = list(csv.reader(hn))"
   ]
  },
  {
   "cell_type": "code",
   "execution_count": 4,
   "metadata": {
    "collapsed": true
   },
   "outputs": [
    {
     "name": "stdout",
     "output_type": "stream",
     "text": [
      "[['12224879', 'Interactive Dynamic Video', 'http://www.interactivedynamicvideo.com/', '386', '52', 'ne0phyte', '8/4/2016 11:52'], ['10975351', 'How to Use Open Source and Shut the Fuck Up at the Same Time', 'http://hueniverse.com/2016/01/26/how-to-use-open-source-and-shut-the-fuck-up-at-the-same-time/', '39', '10', 'josep2', '1/26/2016 19:30'], ['11964716', \"Florida DJs May Face Felony for April Fools' Water Joke\", 'http://www.thewire.com/entertainment/2013/04/florida-djs-april-fools-water-joke/63798/', '2', '1', 'vezycash', '6/23/2016 22:20'], ['11919867', 'Technology ventures: From Idea to Enterprise', 'https://www.amazon.com/Technology-Ventures-Enterprise-Thomas-Byers/dp/0073523429', '3', '1', 'hswarna', '6/17/2016 0:01'], ['10301696', 'Note by Note: The Making of Steinway L1037 (2007)', 'http://www.nytimes.com/2007/11/07/movies/07stein.html?_r=0', '8', '2', 'walterbell', '9/30/2015 4:12']]\n"
     ]
    }
   ],
   "source": [
    "print(hn[:5]) # show the first five rows of the dataset"
   ]
  },
  {
   "cell_type": "code",
   "execution_count": 10,
   "metadata": {},
   "outputs": [
    {
     "name": "stdout",
     "output_type": "stream",
     "text": [
      "['id', 'title', 'url', 'num_points', 'num_comments', 'author', 'created_at']\n"
     ]
    }
   ],
   "source": [
    "# extracting the headers from the dataset\n",
    "headers = hn[0]\n",
    "hn = hn[1:]\n",
    "print(headers)"
   ]
  },
  {
   "cell_type": "code",
   "execution_count": 11,
   "metadata": {},
   "outputs": [],
   "source": [
    "# going to extract posts whose title starts with 'Ask HN'\n",
    "# or 'Show HN'\n",
    "ask_posts, show_posts, other_posts = [],[],[]\n",
    "for row in hn:\n",
    "    if row[1].lower().startswith('ask hn'):\n",
    "        ask_posts.append(row)\n",
    "    elif row[1].lower().startswith('show hn'):\n",
    "        show_posts.append(row)\n",
    "    else:\n",
    "        other_posts.append(row)"
   ]
  },
  {
   "cell_type": "code",
   "execution_count": 12,
   "metadata": {},
   "outputs": [
    {
     "name": "stdout",
     "output_type": "stream",
     "text": [
      "number of 'Ask HN' posts: 1744\n",
      "number of 'show HN' posts: 1162\n",
      "number of neither type of posts: 17194\n"
     ]
    }
   ],
   "source": [
    "print(f\"number of 'Ask HN' posts: {len(ask_posts)}\")\n",
    "print(f\"number of 'show HN' posts: {len(show_posts)}\")\n",
    "print(f\"number of neither type of posts: {len(other_posts)}\")"
   ]
  },
  {
   "cell_type": "code",
   "execution_count": 15,
   "metadata": {},
   "outputs": [],
   "source": [
    "show_comments_per_post = [int(row[4]) for row in show_posts]\n",
    "ask_comments_per_post = [int(row[4]) for row in ask_posts]"
   ]
  },
  {
   "cell_type": "code",
   "execution_count": 17,
   "metadata": {},
   "outputs": [],
   "source": [
    "show_arr = np.array(show_comments_per_post, np.int32)\n",
    "show_mean = show_arr.mean()\n",
    "show_median = np.median(show_arr)\n",
    "show_std = show_arr.std()"
   ]
  },
  {
   "cell_type": "code",
   "execution_count": 18,
   "metadata": {},
   "outputs": [],
   "source": [
    "ask_arr = np.array(ask_comments_per_post, np.int32)\n",
    "ask_mean = ask_arr.mean()\n",
    "ask_median = np.median(ask_arr)\n",
    "ask_std = ask_arr.std()"
   ]
  },
  {
   "cell_type": "code",
   "execution_count": 20,
   "metadata": {},
   "outputs": [
    {
     "name": "stdout",
     "output_type": "stream",
     "text": [
      "Total number of 'Show HN' comments: 11988\n",
      "Average number of 'Show HN' comments per post: 10.31669535283993\n",
      "Median number of 'Show HN' comments per post: 3.0\n",
      "Standard Deviation of 'Show HN' comments per post: 23.31582636603177\n"
     ]
    }
   ],
   "source": [
    "print(f\"Total number of 'Show HN' comments: {show_arr.sum()}\")\n",
    "print(f\"Average number of 'Show HN' comments per post: {show_mean}\")\n",
    "print(f\"Median number of 'Show HN' comments per post: {show_median}\")\n",
    "print(f\"Standard Deviation of 'Show HN' comments per post: {show_std}\")"
   ]
  },
  {
   "cell_type": "code",
   "execution_count": 21,
   "metadata": {},
   "outputs": [
    {
     "name": "stdout",
     "output_type": "stream",
     "text": [
      "Total number of 'Ask HN' comments: 24483\n",
      "Average number of 'Ask HN' comments per post: 14.038417431192661\n",
      "Median number of 'Ask HN' comments per post: 4.0\n",
      "Standard Deviation of 'Ask HN' comments per post: 52.932211852745354\n"
     ]
    }
   ],
   "source": [
    "print(f\"Total number of 'Ask HN' comments: {ask_arr.sum()}\")\n",
    "print(f\"Average number of 'Ask HN' comments per post: {ask_mean}\")\n",
    "print(f\"Median number of 'Ask HN' comments per post: {ask_median}\")\n",
    "print(f\"Standard Deviation of 'Ask HN' comments per post: {ask_std}\")"
   ]
  },
  {
   "cell_type": "markdown",
   "metadata": {},
   "source": [
    "## Comparison between 'Ask HN' and 'Show HN' number of comments per post\n",
    "On average, 'Ask HN' posts gets more comments than 'Show HN' posts. But It is interesting noting that even though 'Ask HN' label has more comments on average, those numbers are more unpredictable than 'Show HN' posts"
   ]
  },
  {
   "cell_type": "code",
   "execution_count": 27,
   "metadata": {},
   "outputs": [],
   "source": [
    "result_list = []\n",
    "for row in ask_posts:\n",
    "    created_at = dt.datetime.strptime(row[6], '%m/%d/%Y %H:%M')\n",
    "    number_of_comments = int(row[4])\n",
    "    result_list.append((created_at, number_of_comments))"
   ]
  },
  {
   "cell_type": "code",
   "execution_count": 23,
   "metadata": {},
   "outputs": [
    {
     "name": "stdout",
     "output_type": "stream",
     "text": [
      "['12296411', 'Ask HN: How to improve my personal website?', '', '2', '6', 'ahmedbaracat', '8/16/2016 9:55']\n"
     ]
    }
   ],
   "source": [
    "print(ask_posts[0])"
   ]
  },
  {
   "cell_type": "code",
   "execution_count": 28,
   "metadata": {},
   "outputs": [],
   "source": [
    "counts_by_hour, comments_by_hour = {}, {}\n",
    "for _date, num_com in result_list:\n",
    "    hour = _date.hour\n",
    "    if hour not in counts_by_hour:\n",
    "        counts_by_hour[hour] = 1\n",
    "        comments_by_hour[hour] = num_com\n",
    "    else:\n",
    "        counts_by_hour[hour] += 1\n",
    "        comments_by_hour[hour] += num_com"
   ]
  },
  {
   "cell_type": "code",
   "execution_count": 32,
   "metadata": {},
   "outputs": [
    {
     "data": {
      "text/plain": [
       "[[0, 8.127272727272727],\n",
       " [1, 11.383333333333333],\n",
       " [2, 23.810344827586206],\n",
       " [3, 7.796296296296297],\n",
       " [4, 7.170212765957447],\n",
       " [5, 10.08695652173913],\n",
       " [6, 9.022727272727273],\n",
       " [7, 7.852941176470588],\n",
       " [8, 10.25],\n",
       " [9, 5.5777777777777775],\n",
       " [10, 13.440677966101696],\n",
       " [11, 11.051724137931034],\n",
       " [12, 9.41095890410959],\n",
       " [13, 14.741176470588234],\n",
       " [14, 13.233644859813085],\n",
       " [15, 38.5948275862069],\n",
       " [16, 16.796296296296298],\n",
       " [17, 11.46],\n",
       " [18, 13.20183486238532],\n",
       " [19, 10.8],\n",
       " [20, 21.525],\n",
       " [21, 16.009174311926607],\n",
       " [22, 6.746478873239437],\n",
       " [23, 7.985294117647059]]"
      ]
     },
     "execution_count": 32,
     "metadata": {},
     "output_type": "execute_result"
    }
   ],
   "source": [
    "avg_by_hour = []\n",
    "for hour in counts_by_hour:\n",
    "    avg_by_hour.append([hour, comments_by_hour[hour]/counts_by_hour[hour]])\n",
    "sorted(avg_by_hour)"
   ]
  },
  {
   "cell_type": "code",
   "execution_count": 38,
   "metadata": {},
   "outputs": [
    {
     "data": {
      "text/plain": [
       "[[15, 38.5948275862069],\n",
       " [2, 23.810344827586206],\n",
       " [20, 21.525],\n",
       " [16, 16.796296296296298],\n",
       " [21, 16.009174311926607],\n",
       " [13, 14.741176470588234],\n",
       " [10, 13.440677966101696],\n",
       " [14, 13.233644859813085],\n",
       " [18, 13.20183486238532],\n",
       " [17, 11.46],\n",
       " [1, 11.383333333333333],\n",
       " [11, 11.051724137931034],\n",
       " [19, 10.8],\n",
       " [8, 10.25],\n",
       " [5, 10.08695652173913],\n",
       " [12, 9.41095890410959],\n",
       " [6, 9.022727272727273],\n",
       " [0, 8.127272727272727],\n",
       " [23, 7.985294117647059],\n",
       " [7, 7.852941176470588],\n",
       " [3, 7.796296296296297],\n",
       " [4, 7.170212765957447],\n",
       " [22, 6.746478873239437],\n",
       " [9, 5.5777777777777775]]"
      ]
     },
     "execution_count": 38,
     "metadata": {},
     "output_type": "execute_result"
    }
   ],
   "source": [
    "swap_avg_by_hour = sorted(avg_by_hour, key=lambda l : l[1], reverse=True)\n",
    "swap_avg_by_hour"
   ]
  },
  {
   "cell_type": "code",
   "execution_count": 45,
   "metadata": {},
   "outputs": [
    {
     "name": "stdout",
     "output_type": "stream",
     "text": [
      "Top 5 Hours for Ask Posts Comments\n",
      "15:00: 38.59 comments per post\n",
      "02:00: 23.81 comments per post\n",
      "20:00: 21.52 comments per post\n",
      "16:00: 16.80 comments per post\n",
      "21:00: 16.01 comments per post\n"
     ]
    }
   ],
   "source": [
    "print(\"Top 5 Hours for Ask Posts Comments\")\n",
    "for hr, avg in swap_avg_by_hour[:5]:\n",
    "    _hour = dt.time(hour = hr)\n",
    "    _hour = _hour.strftime(\"%H:%M\")\n",
    "    print(f\"{_hour}: {avg:.2f} comments per post\")"
   ]
  },
  {
   "cell_type": "code",
   "execution_count": 55,
   "metadata": {},
   "outputs": [],
   "source": [
    "top_5_hours_post_gmt_minus_3 = swap_avg_by_hour[:5]\n",
    "top5_gmtmin3_hours_avg = []\n",
    "for hr,avg in top_5_hours_post_gmt_minus_3:\n",
    "    increase_2_hr = dt.timedelta(hours = 2)\n",
    "    _hour = dt.datetime(1,1,1,hour=hr)\n",
    "    hr = _hour + increase_2_hr\n",
    "    top5_gmtmin3_hours_avg.append([hr, avg])"
   ]
  },
  {
   "cell_type": "code",
   "execution_count": 56,
   "metadata": {},
   "outputs": [
    {
     "name": "stdout",
     "output_type": "stream",
     "text": [
      "Top 5 Hours for Ask Posts Comments in GMT-3\n",
      "17:00: 38.59 comments per post\n",
      "04:00: 23.81 comments per post\n",
      "22:00: 21.52 comments per post\n",
      "18:00: 16.80 comments per post\n",
      "23:00: 16.01 comments per post\n"
     ]
    }
   ],
   "source": [
    "print(\"Top 5 Hours for Ask Posts Comments in GMT-3\")\n",
    "for date, avg in top5_gmtmin3_hours_avg:\n",
    "    _hour = date.strftime(\"%H:%M\")\n",
    "    print(f\"{_hour}: {avg:.2f} comments per post\")"
   ]
  },
  {
   "cell_type": "markdown",
   "metadata": {},
   "source": [
    "## Conclusion\n",
    "The topics labeled as 'Ask HN' get more interaction from user comments than the ones labeled 'Show HN' and the top five hours with the most interactions from users are: 17:00, 04:00, 22:00, 18:00 and 23:00 for the topics labeled as 'Ask HN'"
   ]
  },
  {
   "cell_type": "code",
   "execution_count": null,
   "metadata": {},
   "outputs": [],
   "source": []
  }
 ],
 "metadata": {
  "kernelspec": {
   "display_name": "Python 3",
   "language": "python",
   "name": "python3"
  },
  "language_info": {
   "codemirror_mode": {
    "name": "ipython",
    "version": 3
   },
   "file_extension": ".py",
   "mimetype": "text/x-python",
   "name": "python",
   "nbconvert_exporter": "python",
   "pygments_lexer": "ipython3",
   "version": "3.8.2"
  }
 },
 "nbformat": 4,
 "nbformat_minor": 2
}
